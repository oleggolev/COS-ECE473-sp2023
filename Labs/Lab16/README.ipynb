{
 "cells": [
  {
   "cell_type": "markdown",
   "id": "cbf9a313",
   "metadata": {},
   "source": [
    "# Objectives\n",
    "\n",
    "- Understand applications of NFTs\n",
    "- Register an ENS\n",
    "- Minting and listing an NFT on Opensea \n",
    "- Transfer and sale of NFTs \n",
    "\n",
    "# Prerequisites \n",
    "\n",
    "- Metamask \n",
    "- Ensure a minimum of 0.2 GETH in your account\n",
    "\n",
    "# Register an ENS\n",
    "\n",
    "Ethereum Name Service is a decentralized domain name service that runs on the Ethereum blockchain; it maps a human-readable name to an Ethereum address (EOA or a contract). It improves usability since ENS is well integrated within wallets - making it easier to transfer funds to your friends or interact with known contracts. In this part of the lab, you will set up an ENS name for one of your wallets on Goerli. Please follow the steps below:\n",
    "\n",
    "- Go to the ENS web app at [https://alpha.ens.domains/](https://alpha.ens.domains/)\n",
    "- Type in a preferred name and pick it if available - Note that the name will be available in public, so choose a pseudonymous name so that your wallet address cannot be linked back to your real name. \n",
    "- Start the timer - the timer ensures that there is no front-running attack on ENS\n",
    "- Register the name after the wait\n",
    "\n",
    "How does the timer mechanism prevent front running? Hint: The address who submits the commit and the reveal first gets the name, and there should be a minimum 1-minute gap between the commit and reveal\n",
    "\n",
    "Try out your ENS by sending yourself eth on metamask using your ENS.\n",
    "\n",
    "# Interacting with OpenSea to mint and sell NFTs\n",
    "\n",
    "Opensea is a marketplace for minting, buying, and selling NFTs on the Ethereum blockchain. In this lab, you will be minting an NFT, listing it for sale, and buying an NFT listed by your neighbor. Please follow the steps below:\n",
    "\n",
    "## Visit your profile on OpenSea\n",
    "\n",
    "- Go to OpenSea at [https://testnets.opensea.io/](https://testnets.opensea.io/)\n",
    "- Connect wallet and go to profile (under colored circle in top right).\n",
    "- Check out your NFTs (NameWrapper is your ens); Uniswap V3 is the NFTs representing V3 LP positions you took in labs earlier.\n",
    "\n",
    "## Mint an NFT\n",
    "\n",
    "- Go to create (also under the colored circle in the top right).\n",
    "- Upload a photograph (or any content you own) or make one using AI here: [https://beta.dreamstudio.ai/dream](https://beta.dreamstudio.ai/dream)\n",
    "\n",
    "(These will be visible to the whole course, and staff can associate with your netid, so don't pick an image you wouldn't want everyone to see.)\n",
    "\n",
    "## List and buy NFTs\n",
    "\n",
    "- List your NFT for 0.01 ETH.\n",
    "\n",
    "Work with a friend or use your second wallet:\n",
    "\n",
    "- Search for the user's wallet whose NFT you want to buy. (If you are working with a partner, you can resolve their ENS at [https://alpha.ens.domains/](https://alpha.ens.domains/)) (On mainnet, this would happen on OpenSea automatically.)\n",
    "- Buy their NFT and wait for confirmation.\n",
    "\n",
    "## Transfer and see class NFTs\n",
    "\n",
    "- Resolve the ens `princeton.eth` at [https://alpha.ens.domains/](https://alpha.ens.domains/) and copy the address\n",
    "- Click on the transfer button on the top right (Right facing send arrow) and send your NFT to the address it resolved.\n",
    "- View the wallet and see the NFTs made by your peers."
   ]
  }
 ],
 "metadata": {
  "kernelspec": {
   "display_name": "Python 3",
   "language": "python",
   "name": "python3"
  },
  "language_info": {
   "codemirror_mode": {
    "name": "ipython",
    "version": 3
   },
   "file_extension": ".py",
   "mimetype": "text/x-python",
   "name": "python",
   "nbconvert_exporter": "python",
   "pygments_lexer": "ipython3",
   "version": "3.8.8"
  }
 },
 "nbformat": 4,
 "nbformat_minor": 5
}
