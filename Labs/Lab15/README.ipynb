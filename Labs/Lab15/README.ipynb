{
 "cells": [
  {
   "cell_type": "markdown",
   "id": "cab853d5",
   "metadata": {},
   "source": [
    "# Objectives\n",
    "\n",
    "- Opening positions on DyDx\n",
    "- Maintaining margins while taking leveraged positions\n",
    "\n",
    "\n",
    "# Prerequisites \n",
    "\n",
    "- Metamask \n",
    "\n",
    "\n",
    "# Opening a position on DyDx\n",
    "\n",
    "DyDx is a margin trading protocol that operates on Layer 2 (not directly on the Ethereum blockchain). Thus, transactions we would do on this platform would not appear directly on Etherscan, however, the protocol posts \"zero-knowledge proofs\" that the transactions have been executed correctly on the chain. We would see what ZK-proofs are in a later lecture.\n",
    "\n",
    "- Go to the DyDx platform [website](https://trade.stage.dydx.exchange/portfolio/overview).\n",
    "- Connect your wallet by providing your signature, this authorizes the DyDx trading API to interact with your wallet.\n",
    "- Your portfolio would now have test funds of USD 2000 in the DyDx account. \n",
    "- On the mainnet, this done by depositing USDC to the DyDx smart contract. Equal number of USD are minted on the DyDx Layer 2.\n",
    "- Go to the \"Trade\" tab on this website.\n",
    "- Note that \"buying power\" here is much more than the amount you have. This is because DyDx allows margin trading - the intial margin fraction and the maintenance margin fraction for the token pair are given under \"Details\".\n",
    "- Buying a perpetual = long, selling a perpetual = short. Long positions are taken by users who expect price to rise and shorts by users who expect the price to fall.\n",
    "- Price of the perpetual and price of the oracle (underlying token) are different. When oracle is above perpetual price, short positions pay the long ones.\n",
    "- The amount paid by these positions making the opposite bets is calculated using the funding rate, under the \"Funding\".\n",
    "- Types of positions you can take while trading : limit orders, market orders, stop orders and trailing stop orders.\n",
    "- Use ~ USD 1000 to open a trade of each of those types (either long or short is fine). Note that both long and short positions involve borrowing \"fake\" USD and ETH from the protocol. Also note that you are taking a net position using much more USD than you started with.\n",
    "- Once your market trades go through, you would see them under \"Positions\". Note that you cannot transfer these perpetual contracts outside the DyDx exchange that exists as a Layer 2 on Ethereum.\n",
    "- Make your market orders larger. What happens to the liquidation price?\n",
    "\n",
    "## Other related protocols\n",
    "\n",
    "- [Ribbon Finance](https://www.ribbon.finance/) : Liquidity Provisioning for covered call options\n",
    "- [Set Protocol](https://www.tokensets.com/portfolio/dpi?origin=thematic) : ETFs - DeFi Pulse Index\n"
   ]
  },
  {
   "cell_type": "markdown",
   "id": "10f0d5ec",
   "metadata": {},
   "source": [
    "# Liquidations in DyDx: an example\n",
    "\n",
    "Assume an initial margin requirement of 10% and a maintenance margin requirement of 7.5%. \n",
    "\n",
    "**Note:**\n",
    "1. Use this: Margin = (Net value of position)/(Value of borrowed assets)\n",
    "2. Fill in the answers in [this sheet](https://forms.gle/CAcs6YKNxuKPqCRj8). \n",
    "\n",
    "## Example\n",
    "\n",
    "1. Trader A deposits 1000 USDC, then opens a short perpetual position of 1 ETH at a price of 2000 USDC. Their account balance is +3000 USDC, -1 ETH. Let the maximum amount A could have borrowed be x1 ETH. What is x1?\n",
    "2. The oracle price falls to 1800 USDC/ETH over time. Trader A gets x2% profit over their inital investment if they *close* their short position now. What is x2? \n",
    "3. Trader A does not close their position and the oracle price goes back up linearly to 2000 USDC/ETH, making their margin percentage x3%. What is x3?\n",
    "4. Over time, the price of ETH increases, and the oracle price hits x4 USDC, at which point Trader A’s position is below the maintenance margin requirement and becomes liquidatable. What is x4?\n",
    "5. The liquidator, who has a balance of +100 USDC, 0 ETH, liquidates A’s position successfully at a best price on the books of USD 2800, and taking a 1\\% fee (USD 28). \n",
    "6. This leaves Account A with 3000 - 2800 - 28 = 172 USDC, and bringing the liquidator's balance to +2928 USDC, -1 ETH. \n",
    "7. The liquidator then closes the short position on the market at a price of 2800 USDC, bringing its final balance to +x5 USDC, 0 ETH. What is x5?\n",
    "8. Instead of a normal position, if Trader A had a trailing stop order with a trailing percent = 10%, then the position would have closed automatically when the price was x6. The percentage profit obtained would have been x7%. What are x6 and x7? (Hint: replay step 3)\n",
    "\n",
    " \n"
   ]
  }
 ],
 "metadata": {
  "kernelspec": {
   "display_name": "Python 3 (ipykernel)",
   "language": "python",
   "name": "python3"
  },
  "language_info": {
   "codemirror_mode": {
    "name": "ipython",
    "version": 3
   },
   "file_extension": ".py",
   "mimetype": "text/x-python",
   "name": "python",
   "nbconvert_exporter": "python",
   "pygments_lexer": "ipython3",
   "version": "3.9.15"
  }
 },
 "nbformat": 4,
 "nbformat_minor": 5
}
